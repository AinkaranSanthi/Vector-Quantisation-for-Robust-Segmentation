{
 "cells": [
  {
   "cell_type": "code",
   "execution_count": null,
   "metadata": {},
   "outputs": [],
   "source": [
    "import numpy as np\n",
    "import matplotlib.pyplot as plt\n",
    "\n",
    "import torch\n",
    "import random\n",
    "import seaborn as sns\n",
    "\n",
    "import sys\n",
    "sys.path.append('../')\n",
    "\n",
    "from vqseg1 import Net"
   ]
  },
  {
   "cell_type": "code",
   "execution_count": null,
   "metadata": {},
   "outputs": [],
   "source": [
    "net = Net()\n",
    "net.load_state_dict(torch.load('/vol/biomedic2/agk21/PhDLogs/codes/Vector-Quantisation-for-Robust-Segmentation/output4/disease1/vqseg1/version_1/checkpoints/epoch=289-step=6959.ckpt')['state_dict'])\n",
    "net = net.eval()"
   ]
  },
  {
   "cell_type": "code",
   "execution_count": null,
   "metadata": {},
   "outputs": [],
   "source": [
    "net.prepare_data()\n",
    "val_dataloader = net.val_dataloader()"
   ]
  },
  {
   "cell_type": "code",
   "execution_count": null,
   "metadata": {},
   "outputs": [],
   "source": [
    "for i, data in enumerate(val_dataloader):\n",
    "    if i > 0: break\n",
    "    \n",
    "    print (data['image'].shape, data['label'].shape)"
   ]
  },
  {
   "cell_type": "code",
   "execution_count": null,
   "metadata": {},
   "outputs": [],
   "source": [
    "import pickle\n",
    "\n",
    "nTTAs = 100\n",
    "\n",
    "zdata = {}\n",
    "\n",
    "noise_threshold_list = [0.01, 0.1, 0.5, 0.75, 0.9]\n",
    "\n",
    "for noise_threshold in noise_threshold_list:\n",
    "    embs = []; recons = []\n",
    "\n",
    "    for _ in range(nTTAs):\n",
    "        x = data['image'][:1, ...].cuda() + noise_threshold*torch.randn(*data['image'][:1, ...].shape).cuda()\n",
    "        x, encoding = net.forward(x)\n",
    "        embs.append(encoding)\n",
    "        recons.append(x)\n",
    "\n",
    "    embs = torch.cat(embs, 0)\n",
    "    recons = torch.cat(recons, 0)\n",
    "    \n",
    "    zdata[noise_threshold] = {'emb': embs.detach().cpu().numpy(), \n",
    "                                  'recon': recons.detach().cpu().numpy(), \n",
    "                                  'img': data['image'][:1, ...].numpy(), \n",
    "                                  'label': data['label'][:1, ...].numpy()}\n",
    "\n",
    "\n",
    "with open('data.pickle', 'wb') as file:\n",
    "    pickle.dump(zdata, file)"
   ]
  },
  {
   "cell_type": "code",
   "execution_count": null,
   "metadata": {},
   "outputs": [],
   "source": [
    "embs.shape"
   ]
  },
  {
   "cell_type": "code",
   "execution_count": null,
   "metadata": {},
   "outputs": [],
   "source": []
  },
  {
   "cell_type": "code",
   "execution_count": null,
   "metadata": {},
   "outputs": [],
   "source": []
  },
  {
   "cell_type": "code",
   "execution_count": null,
   "metadata": {},
   "outputs": [],
   "source": [
    "from vqseg import Net as QNet\n",
    "\n",
    "qnet = QNet()\n",
    "qnet.load_state_dict(torch.load('/vol/biomedic2/agk21/PhDLogs/codes/Vector-Quantisation-for-Robust-Segmentation/output4/disease1/vqseg/version_1/checkpoints/epoch=294-step=7079.ckpt')['state_dict'])\n",
    "qnet = qnet.eval()"
   ]
  },
  {
   "cell_type": "code",
   "execution_count": null,
   "metadata": {},
   "outputs": [],
   "source": [
    "import pickle\n",
    "\n",
    "nTTAs = 100\n",
    "\n",
    "zqdata = {}\n",
    "\n",
    "noise_threshold_list = [0.01, 0.1, 0.5, 0.75, 0.9]\n",
    "\n",
    "for noise_threshold in noise_threshold_list:\n",
    "    embs = []; recons = []\n",
    "\n",
    "    for _ in range(nTTAs):\n",
    "        x = data['image'][:1, ...].cuda() + noise_threshold*torch.randn(*data['image'][:1, ...].shape).cuda()\n",
    "        x, encoding = qnet.forward(x)\n",
    "        embs.append(encoding)\n",
    "        recons.append(x)\n",
    "\n",
    "    embs = torch.cat(embs, 0)\n",
    "    recons = torch.cat(recons, 0)\n",
    "    \n",
    "    zqdata[noise_threshold] = {'emb': embs.detach().cpu().numpy(), \n",
    "                                  'recon': recons.detach().cpu().numpy(), \n",
    "                                  'img': data['image'][:1, ...].numpy(), \n",
    "                                  'label': data['label'][:1, ...].numpy()}\n",
    "\n",
    "\n",
    "with open('data.pickle', 'wb') as file:\n",
    "    pickle.dump(zqdata, file)"
   ]
  },
  {
   "cell_type": "code",
   "execution_count": null,
   "metadata": {},
   "outputs": [],
   "source": [
    "zqdata[0.01]['emb'].shape, zdata[0.01]['emb'].shape"
   ]
  },
  {
   "cell_type": "code",
   "execution_count": null,
   "metadata": {
    "scrolled": true,
    "tags": []
   },
   "outputs": [],
   "source": [
    "for noise_threshold in noise_threshold_list:\n",
    "    print (\"============================ noise: {} ===========\".format(noise_threshold))\n",
    "    z, zq = zdata[noise_threshold]['emb'], zqdata[noise_threshold]['emb']\n",
    "    \n",
    "    plt.figure(figsize=(50, 50))\n",
    "    plt.subplot(1, 2, 1)\n",
    "    plt.imshow(z[:, :, 0,0,0], cmap='coolwarm')\n",
    "    \n",
    "    \n",
    "    plt.subplot(1, 2, 2)\n",
    "    plt.imshow(zq[:, :, 0,0,0], cmap='coolwarm')\n",
    "    plt.show()\n",
    "    \n",
    "    \n",
    "    plt.figure(figsize=(50, 50))\n",
    "    plt.subplot(1, 2, 1)\n",
    "    plt.imshow(z[:, :, 1, 1, 1], cmap='coolwarm')\n",
    "    \n",
    "    \n",
    "    plt.subplot(1, 2, 2)\n",
    "    plt.imshow(zq[:, :, 1, 1, 1], cmap='coolwarm')\n",
    "    plt.show()\n",
    "    \n",
    "    plt.figure(figsize=(50, 50))\n",
    "    plt.subplot(1, 2, 1)\n",
    "    plt.imshow(z[:, :, 1, 0, 1], cmap='coolwarm')\n",
    "    \n",
    "    plt.subplot(1, 2, 2)\n",
    "    plt.imshow(zq[:, :, 1, 0, 1], cmap='coolwarm')\n",
    "    plt.show()\n",
    "    \n",
    "    plt.figure(figsize=(50, 50))\n",
    "    plt.subplot(1, 2, 1)\n",
    "    plt.imshow(z[:, :, 1, 0, 0], cmap='coolwarm')\n",
    "    \n",
    "    \n",
    "    plt.subplot(1, 2, 2)\n",
    "    plt.imshow(zq[:, :, 1, 0, 0], cmap='coolwarm')\n",
    "    plt.show()\n"
   ]
  },
  {
   "cell_type": "code",
   "execution_count": null,
   "metadata": {},
   "outputs": [],
   "source": [
    "for noise_threshold in noise_threshold_list:\n",
    "    print (\"============================ noise: {} ===========\".format(noise_threshold))\n",
    "    z, zq = zdata[noise_threshold]['emb'].reshape(100, 256, -1), zqdata[noise_threshold]['emb'].reshape(100, 256, -1)\n",
    "    \n",
    "    maxZ = np.max(z, axis=0).T\n",
    "    plt.figure(figsize=(50, 5))\n",
    "    plt.subplot(2, 1, 1)\n",
    "    plt.imshow(np.var(z, axis=0).T/maxZ, cmap='coolwarm', vmin=0, vmax=1)\n",
    "    \n",
    "    plt.subplot(2, 1, 2)\n",
    "    plt.imshow(np.var(zq, axis=0).T/maxZ, cmap='coolwarm', vmin=0, vmax=1)\n",
    "    plt.show()"
   ]
  },
  {
   "cell_type": "code",
   "execution_count": null,
   "metadata": {},
   "outputs": [],
   "source": []
  }
 ],
 "metadata": {
  "kernelspec": {
   "display_name": "Python 3 (ipykernel)",
   "language": "python",
   "name": "python3"
  },
  "language_info": {
   "codemirror_mode": {
    "name": "ipython",
    "version": 3
   },
   "file_extension": ".py",
   "mimetype": "text/x-python",
   "name": "python",
   "nbconvert_exporter": "python",
   "pygments_lexer": "ipython3",
   "version": "3.7.2"
  }
 },
 "nbformat": 4,
 "nbformat_minor": 4
}
